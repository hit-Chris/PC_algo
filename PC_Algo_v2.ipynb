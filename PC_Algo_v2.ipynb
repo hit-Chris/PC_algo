{
 "cells": [
  {
   "cell_type": "code",
   "execution_count": 135,
   "metadata": {},
   "outputs": [],
   "source": [
    "from scipy.stats import norm\n",
    "from itertools import combinations\n",
    "import numpy as np\n",
    "import math\n",
    "from causallearn.search.ConstraintBased.PC import pc\n",
    "\n",
    "np.random.seed(7)\n",
    "n_node,n_sample = 6,20000\n",
    "digma =0.8\n",
    "var_num = 6\n",
    "alpha = 0.05\n",
    "adj_mat = np.ones([6, 6]) - np.eye(6)\n"
   ]
  },
  {
   "cell_type": "code",
   "execution_count": 86,
   "metadata": {},
   "outputs": [],
   "source": [
    "X1 = np.random.normal(loc=0.0, scale=digma, size=n_sample)\n",
    "X2 = 0.5 * X1 + np.random.normal(loc=0.0, scale=digma, size=n_sample)\n",
    "X3 = 0.5 * X2 + np.random.normal(loc=0.0, scale=digma, size=n_sample)\n",
    "X4 = 0.5 * X2 + np.random.normal(loc=0.0, scale=digma, size=n_sample)\n",
    "X5 = 0.5 * X3 + 0.5 * X4 + np.random.normal(loc=0.0, scale=digma, size=n_sample)\n",
    "X6 = 0.5 * X5 + np.random.normal(loc=0.0, scale=digma, size=n_sample)\n",
    "data= np.vstack([X1, X2, X3, X4, X5, X6])\n",
    "cov_ = np.cov(data)"
   ]
  },
  {
   "cell_type": "code",
   "execution_count": 144,
   "metadata": {},
   "outputs": [],
   "source": [
    "X1 = np.random.binomial(100.0, 0.5, n_sample)\n",
    "X2 = 0.77 * X1 + np.random.binomial(73.0, 0.8, n_sample)\n",
    "X3 = 0.12 * X1 - 0.87 * X2 + np.random.binomial(73.0, 0.8, n_sample)\n",
    "X4 = -0.15 * X1 - 0.89 * X3 + np.random.normal(loc=0.0, scale=digma, size=n_sample)\n",
    "X5 = -1.1 * X1 + 0.6 * X2 + np.random.normal(loc=0.0, scale=digma, size=n_sample)\n",
    "X6 = -0.43 * X3 + 0.019 * X2 + np.random.normal(loc=0.0, scale=digma, size=n_sample)\n",
    "data= np.vstack([X1,X2,X3,X4,X5,X6])\n",
    "cov_ = np.cov(data)"
   ]
  },
  {
   "cell_type": "code",
   "execution_count": 142,
   "metadata": {},
   "outputs": [],
   "source": [
    "def fisher_Z_test(n_sample, alpha, cond_idx, var_idx, cov_):\n",
    "        \n",
    "        comb_var_idx = np.append(var_idx, cond_idx)\n",
    "\n",
    "        if cond_idx.shape[0] == 0:\n",
    "            cor_var = cov_[var_idx[0], var_idx[1]]\n",
    "        else:\n",
    "            precision_matrix = np.linalg.pinv(cov_[np.ix_(comb_var_idx, comb_var_idx)])\n",
    "            cor_var = - precision_matrix[0, 1] / np.sqrt(precision_matrix[0, 0] * precision_matrix[1, 1])\n",
    "        cor_var = min(0.99999, max(cor_var, -0.99999))\n",
    "        z_trans = 0.5 * math.log((1 + cor_var) / ( 1-cor_var))\n",
    "        X = math.sqrt(n_sample - comb_var_idx.shape[0] - 3) * abs(z_trans) \n",
    "        p_value = 2 * (1 - norm.cdf(abs(X)))\n",
    "        if p_value > alpha:\n",
    "            return p_value, True\n",
    "        else:\n",
    "            return p_value, False\n",
    "\n",
    "def skeleton_discovery(cov_, var_num, n_sample, alpha):\n",
    "    depth = -1\n",
    "    sep_set = []\n",
    "    adj_mat = np.ones([6, 6]) - np.eye(6)\n",
    "    for i in range(var_num):\n",
    "        sep_set.append([])\n",
    "        for j in range(var_num):\n",
    "            sep_set[i].append([])\n",
    "    while max(np.sum(adj_mat != 0, axis = 1)) - 1 > depth:\n",
    "        depth += 1\n",
    "        \n",
    "        # 下面这个大的for循环应该被修改，用来实现离散优化问题的求解\n",
    "        \n",
    "        for x in range(var_num):\n",
    "            adj_vars, neigh_num = get_neigh(adj_mat, x)\n",
    "            if neigh_num < depth - 1:\n",
    "                continue\n",
    "            for y in adj_vars:\n",
    "                \n",
    "                neigh_x_without_y = np.delete(adj_vars, np.where(adj_vars == y))\n",
    "\n",
    "                for S in combinations(neigh_x_without_y, depth):\n",
    "                    _, flag = fisher_Z_test(n_sample, alpha, np.array(S), np.array([x, y]), cov_)\n",
    "                    if not flag:\n",
    "                        continue\n",
    "                    else:\n",
    "                        sep_set[x][y] = sep_set[x][y] + list(S)\n",
    "                        sep_set[y][x] = sep_set[y][x] + list(S)\n",
    "                        adj_mat[x, y] = 0\n",
    "                        adj_mat[y, x] = 0\n",
    "                        print(\"Delete edge: \",x,y)\n",
    "                        print(\"sep_set: \", S)\n",
    "                        print(flag)\n",
    "\n",
    "    return adj_mat, sep_set\n",
    "\n",
    "def get_neigh(adj_mat, var_idx):\n",
    "    neigh_set = np.where(adj_mat[var_idx, :] != 0)\n",
    "    return neigh_set[0], len(neigh_set[0])\n",
    "\n",
    "def get_v_struct(adj_mat, sep_set, var_num):\n",
    "    v_struct = []\n",
    "    tri_nodes = []\n",
    "    collidors = []\n",
    "    for i in range(var_num):\n",
    "        triu = np.triu(adj_mat, 1)\n",
    "        a = np.where(triu[i, :] != 0)\n",
    "        b = np.where(triu[:, i] != 0)\n",
    "        if len(a[0]) + len(b[0]) >= 2:\n",
    "            neigh_collidor = np.append(a[0], b[0])\n",
    "            attackers = combinations(neigh_collidor, 2)\n",
    "            for attacker in attackers:\n",
    "                x = min(attacker)\n",
    "                y = max(attacker)\n",
    "                tri_nodes.append((x, i, y))\n",
    "                if adj_mat[x, y] == 0:\n",
    "                    if (i) not in sep_set[x][y]:\n",
    "                        tri_nodes.pop()\n",
    "                        collidors.append(i)\n",
    "                        v_struct.append((x, i, y))\n",
    "                        adj_mat[i, x] = -1\n",
    "                        adj_mat[i, y] = -1\n",
    "    return adj_mat, v_struct, list(set(collidors)), tri_nodes\n",
    "\n",
    "def orient_edges(adj_mat, v_struct, collidors):\n",
    "    \n",
    "    for collidor in collidors:\n",
    "        attackers = []\n",
    "        for struct in v_struct:\n",
    "            if struct[1] == collidor:\n",
    "                attackers.append(struct[0])\n",
    "                attackers.append(struct[2])\n",
    "        attackers = list(set(attackers))\n",
    "        neighs, _ = get_neigh(adj_mat, collidor)\n",
    "        non_attackers = list(set(neighs) ^ set(attackers))\n",
    "\n",
    "        for node in non_attackers:\n",
    "            adj_mat[collidor, node] = 1\n",
    "            adj_mat[node, collidor] = -1\n",
    "    return adj_mat\n",
    "\n",
    "def orient_extent(tri_nodes, adj_mat):\n",
    "    if len(tri_nodes) > 0:\n",
    "        for (i, j, k) in tri_nodes:\n",
    "            if (adj_mat[i, j] == 1 ) & (adj_mat[j, i] == 0) & (adj_mat[k, j] == 1) & (adj_mat[j, k] == 1) & (adj_mat[i, k] == 0) & (adj_mat[k, i] == 0):\n",
    "                adj_mat[k, j] = 0\n",
    "        \n",
    "        for (i , j, k) in tri_nodes:\n",
    "            if (adj_mat[i, j] == 1 ) & (adj_mat[j, i] == 0) & (adj_mat[j, k] == 1) & (adj_mat[k, j] == 0) & (adj_mat[i, k] == 1) & (adj_mat[k, i] == 1):\n",
    "                adj_mat[k, i] = 0\n",
    "\n",
    "    return adj_mat\n",
    "\n",
    "def PC(cov_, adj_mat, var_num, n_sample, alpha):\n",
    "    adj, sepSet = skeleton_discovery(cov_, var_num, n_sample, alpha)\n",
    "    print(\"skeleton: \")\n",
    "    print(adj)\n",
    "    # print(\"sep_set: \")\n",
    "    # print(sepSet)\n",
    "    adj_mat, v_struct, collidors, tri_nodes = get_v_struct(adj, sepSet, var_num)\n",
    "    \n",
    "    # print(\"v_Struct: \")\n",
    "    # print(v_struct)\n",
    "    # print(\"tri_nodes\")\n",
    "    # print(tri_nodes)\n",
    "    adj_mat = orient_edges(adj_mat, v_struct, collidors)\n",
    "    adj_mat = orient_extent(tri_nodes, adj_mat)\n",
    "    return adj_mat\n"
   ]
  },
  {
   "cell_type": "code",
   "execution_count": 145,
   "metadata": {},
   "outputs": [
    {
     "name": "stdout",
     "output_type": "stream",
     "text": [
      "Delete edge:  1 3\n",
      "sep_set:  (5,)\n",
      "True\n",
      "Delete edge:  0 5\n",
      "sep_set:  (1, 2)\n",
      "True\n",
      "Delete edge:  2 4\n",
      "sep_set:  (0, 1)\n",
      "True\n",
      "Delete edge:  3 4\n",
      "sep_set:  (0, 2)\n",
      "True\n",
      "Delete edge:  3 5\n",
      "sep_set:  (0, 2)\n",
      "True\n",
      "Delete edge:  4 5\n",
      "sep_set:  (0, 1)\n",
      "True\n",
      "skeleton: \n",
      "[[0. 1. 1. 1. 1. 0.]\n",
      " [1. 0. 1. 0. 1. 1.]\n",
      " [1. 1. 0. 1. 0. 1.]\n",
      " [1. 0. 1. 0. 0. 0.]\n",
      " [1. 1. 0. 0. 0. 0.]\n",
      " [0. 1. 1. 0. 0. 0.]]\n"
     ]
    },
    {
     "data": {
      "text/plain": [
       "array([[ 0., -1., -1., -1.,  1.,  0.],\n",
       "       [ 0.,  0.,  1.,  0.,  1.,  1.],\n",
       "       [ 0.,  0.,  0., -1.,  0.,  1.],\n",
       "       [ 0.,  0.,  0.,  0.,  0.,  0.],\n",
       "       [ 0.,  0.,  0.,  0.,  0.,  0.],\n",
       "       [ 0.,  0.,  0.,  0.,  0.,  0.]])"
      ]
     },
     "execution_count": 145,
     "metadata": {},
     "output_type": "execute_result"
    }
   ],
   "source": [
    "adj = PC(cov_, adj_mat, var_num, n_sample, alpha)\n",
    "np.triu(adj, 1)"
   ]
  },
  {
   "cell_type": "code",
   "execution_count": 120,
   "metadata": {},
   "outputs": [
    {
     "name": "stdout",
     "output_type": "stream",
     "text": [
      "(0.8166218371800644, True)\n"
     ]
    }
   ],
   "source": [
    "flag = fisher_Z_test(n_sample, alpha, np.array([2]), np.array([1, 4]), cov_)\n",
    "print(flag)"
   ]
  },
  {
   "cell_type": "code",
   "execution_count": 146,
   "metadata": {},
   "outputs": [
    {
     "name": "stderr",
     "output_type": "stream",
     "text": [
      "Depth=3, working on node 5: 100%|██████████| 6/6 [00:00<00:00, 415.62it/s] \n"
     ]
    },
    {
     "data": {
      "text/plain": [
       "array([[ 0,  1, -1,  1,  1,  0],\n",
       "       [ 0,  0, -1,  0, -1, -1],\n",
       "       [ 0,  0,  0,  1,  0, -1],\n",
       "       [ 0,  0,  0,  0,  0,  0],\n",
       "       [ 0,  0,  0,  0,  0,  0],\n",
       "       [ 0,  0,  0,  0,  0,  0]])"
      ]
     },
     "execution_count": 146,
     "metadata": {},
     "output_type": "execute_result"
    }
   ],
   "source": [
    "cg = pc(np.transpose(data), alpha)\n",
    "np.triu(cg.G.graph, 1)"
   ]
  }
 ],
 "metadata": {
  "kernelspec": {
   "display_name": "Python 3.9.7 ('base')",
   "language": "python",
   "name": "python3"
  },
  "language_info": {
   "codemirror_mode": {
    "name": "ipython",
    "version": 3
   },
   "file_extension": ".py",
   "mimetype": "text/x-python",
   "name": "python",
   "nbconvert_exporter": "python",
   "pygments_lexer": "ipython3",
   "version": "3.9.7"
  },
  "orig_nbformat": 4,
  "vscode": {
   "interpreter": {
    "hash": "731f335af7902f6461f627d3bd8a7ea8fd1928cb3777d4cad190e96e202035b6"
   }
  }
 },
 "nbformat": 4,
 "nbformat_minor": 2
}
