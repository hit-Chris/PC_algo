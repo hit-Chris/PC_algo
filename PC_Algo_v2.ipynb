{
 "cells": [
  {
   "cell_type": "code",
   "execution_count": 60,
   "metadata": {},
   "outputs": [],
   "source": [
    "from scipy.stats import norm\n",
    "from itertools import combinations\n",
    "import numpy as np\n",
    "import math\n",
    "\n",
    "\n",
    "n_node,n_sample = 6,2000\n",
    "digma =0.8\n",
    "X1 = np.random.normal(loc=0.0, scale=digma, size=n_sample)\n",
    "X2 = 0.5*X1+ np.random.normal(loc=0.0, scale=digma, size=n_sample)\n",
    "X3 = 0.5*X2+ np.random.normal(loc=0.0, scale=digma, size=n_sample)\n",
    "X4 = 0.5*X2+ np.random.normal(loc=0.0, scale=digma, size=n_sample)\n",
    "X5 = 0.5*X3+ 0.5*X4 + np.random.normal(loc=0.0, scale=digma, size=n_sample)\n",
    "X6 = 0.5*X5+ np.random.normal(loc=0.0, scale=digma, size=n_sample)\n",
    "data= np.vstack([X1,X2,X3,X4,X5,X6])\n",
    "\n",
    "var_num = 6\n",
    "alpha = 0.025\n",
    "adj_mat = np.ones([6, 6])\n",
    "cov_ = np.cov(data)\n"
   ]
  },
  {
   "cell_type": "code",
   "execution_count": 56,
   "metadata": {},
   "outputs": [],
   "source": []
  },
  {
   "cell_type": "code",
   "execution_count": 61,
   "metadata": {},
   "outputs": [],
   "source": [
    "def fisher_Z_test(n_sample, alpha, cond_idx, var_idx, cov_):\n",
    "        \n",
    "        comb_var_idx = np.append(var_idx, cond_idx)\n",
    "\n",
    "        if cond_idx.shape[0] == 0:\n",
    "            cor_var = cov_[var_idx[0], var_idx[1]]\n",
    "        else:\n",
    "            precision_matrix = np.linalg.pinv(cov_[np.ix_(comb_var_idx, comb_var_idx)])\n",
    "            cor_var = - precision_matrix[0, 1] / np.sqrt(precision_matrix[0, 0] * precision_matrix[1, 1])\n",
    "        cor_var = min(0.99999, max(cor_var, -0.99999))\n",
    "        z_trans = 0.5 * math.log((1 + cor_var) / ( 1-cor_var))\n",
    "        X = math.sqrt(n_sample - comb_var_idx.shape[0] - 3) * abs(z_trans) \n",
    "        p_value = 2 * (1 - norm.cdf(abs(X)))\n",
    "        if p_value > alpha:\n",
    "            \n",
    "            return p_value, True\n",
    "        else:\n",
    "            return p_value, False\n",
    "        \n",
    "\n",
    "def skeleton_discovery(cov_, adj_mat, var_num, n_sample, alpha):\n",
    "    depth = -1\n",
    "    while max(np.sum(adj_mat != 0, axis = 1)) - 1 > depth:\n",
    "        depth += 1\n",
    "        for x in range(var_num):\n",
    "            adj_vars, neigh_num = get_neigh(adj_mat, x)\n",
    "            if neigh_num < depth - 1:\n",
    "                continue\n",
    "            for y in adj_vars:\n",
    "                neigh_x_without_y = np.delete(adj_vars, np.where(adj_vars == y))\n",
    "                for S in combinations(neigh_x_without_y, depth):\n",
    "                    _, flag = fisher_Z_test(n_sample, alpha, np.array(S), np.array([x, y]), cov_)\n",
    "                    if flag:\n",
    "                        adj_mat[x, y] = 0\n",
    "                        adj_mat[y, x] = 0\n",
    "                        \n",
    "    return adj_mat\n",
    "\n",
    "\n",
    "def get_neigh(adj_mat, var_idx):\n",
    "    neigh_set = np.where(adj_mat[var_idx, :] != 0)\n",
    "    return neigh_set[0], len(neigh_set[0])\n",
    "\n",
    "def check_cardi(adj_mat, cardinality, var_num):\n",
    "    for i in range(var_num):\n",
    "        if np.sum(adj_mat[i, :]) >= cardinality + 1:\n",
    "            return True # This shows not each ordered pair of adjacent vertices X, Y, Adj(C, X)\\{Y} is of cardinality less than n.\n",
    "    return False\n"
   ]
  },
  {
   "cell_type": "code",
   "execution_count": 64,
   "metadata": {},
   "outputs": [],
   "source": [
    "adj = skeleton_discovery(cov_, adj_mat, var_num, n_sample, alpha)"
   ]
  },
  {
   "cell_type": "code",
   "execution_count": 65,
   "metadata": {},
   "outputs": [
    {
     "name": "stdout",
     "output_type": "stream",
     "text": [
      "[[0. 1. 0. 0. 0. 0.]\n",
      " [0. 0. 1. 1. 0. 0.]\n",
      " [0. 0. 0. 0. 1. 0.]\n",
      " [0. 0. 0. 0. 1. 0.]\n",
      " [0. 0. 0. 0. 0. 1.]\n",
      " [0. 0. 0. 0. 0. 0.]]\n"
     ]
    }
   ],
   "source": [
    "print(np.triu(adj, 1))"
   ]
  },
  {
   "cell_type": "code",
   "execution_count": 32,
   "metadata": {},
   "outputs": [
    {
     "name": "stderr",
     "output_type": "stream",
     "text": [
      "Depth=3, working on node 5: 100%|██████████| 6/6 [00:00<00:00, 1321.04it/s]\n"
     ]
    },
    {
     "data": {
      "text/plain": [
       "array([[ 0, -1,  0,  0,  0,  0],\n",
       "       [ 0,  0, -1, -1,  0,  0],\n",
       "       [ 0,  0,  0, -1, -1,  0],\n",
       "       [ 0,  0,  0,  0, -1,  1],\n",
       "       [ 0,  0,  0,  0,  0,  1],\n",
       "       [ 0,  0,  0,  0,  0,  0]])"
      ]
     },
     "execution_count": 32,
     "metadata": {},
     "output_type": "execute_result"
    }
   ],
   "source": [
    "from causallearn.search.ConstraintBased.PC import pc\n",
    "\n",
    "cg = pc(np.transpose(data), alpha)\n",
    "np.triu(cg.G.graph, 1)"
   ]
  }
 ],
 "metadata": {
  "kernelspec": {
   "display_name": "Python 3.9.7 ('base')",
   "language": "python",
   "name": "python3"
  },
  "language_info": {
   "codemirror_mode": {
    "name": "ipython",
    "version": 3
   },
   "file_extension": ".py",
   "mimetype": "text/x-python",
   "name": "python",
   "nbconvert_exporter": "python",
   "pygments_lexer": "ipython3",
   "version": "3.9.7"
  },
  "orig_nbformat": 4,
  "vscode": {
   "interpreter": {
    "hash": "731f335af7902f6461f627d3bd8a7ea8fd1928cb3777d4cad190e96e202035b6"
   }
  }
 },
 "nbformat": 4,
 "nbformat_minor": 2
}
